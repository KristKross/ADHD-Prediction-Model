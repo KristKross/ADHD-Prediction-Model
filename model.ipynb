{
 "cells": [
  {
   "cell_type": "markdown",
   "metadata": {},
   "source": [
    "# Import Modules"
   ]
  },
  {
   "cell_type": "code",
   "execution_count": null,
   "metadata": {},
   "outputs": [],
   "source": [
    "import pandas as pd\n",
    "import numpy as np\n",
    "import matplotlib.pyplot as plt\n",
    "import seaborn as sns\n",
    "import gradio as gr\n",
    "from sklearn.inspection import permutation_importance\n",
    "from sklearn.svm import SVC\n",
    "from sklearn.model_selection import train_test_split, RandomizedSearchCV\n",
    "from sklearn.metrics import confusion_matrix, accuracy_score, classification_report, roc_curve, auc\n",
    "from sklearn.calibration import calibration_curve"
   ]
  },
  {
   "cell_type": "markdown",
   "metadata": {},
   "source": [
    "# Loading Dataset"
   ]
  },
  {
   "cell_type": "code",
   "execution_count": null,
   "metadata": {},
   "outputs": [],
   "source": [
    "df = pd.read_csv('SRSavg.csv')\n",
    "\n",
    "df.info()"
   ]
  },
  {
   "cell_type": "markdown",
   "metadata": {},
   "source": [
    "# Data Preprocessing"
   ]
  },
  {
   "cell_type": "code",
   "execution_count": null,
   "metadata": {},
   "outputs": [],
   "source": [
    "feature_columns = ['SRS_RAW_TOTAL', 'SRS_AWARENESS', 'SRS_COGNITION', 'SRS_COMMUNICATION', 'SRS_MOTIVATION', 'SRS_MANNERISMS']\n",
    "target_column = 'HAS ADHD'\n",
    "\n",
    "X = df[feature_columns]\n",
    "y = df[target_column]\n",
    "\n",
    "df.head()"
   ]
  },
  {
   "cell_type": "markdown",
   "metadata": {},
   "source": [
    "# Split the Data Into Testing and Training"
   ]
  },
  {
   "cell_type": "code",
   "execution_count": 7,
   "metadata": {},
   "outputs": [],
   "source": [
    "X_train, X_test, y_train, y_test = train_test_split(X, y, test_size=0.2, random_state=42)"
   ]
  },
  {
   "cell_type": "markdown",
   "metadata": {},
   "source": [
    "# Training the Model"
   ]
  },
  {
   "cell_type": "code",
   "execution_count": null,
   "metadata": {},
   "outputs": [],
   "source": [
    "svm_model = SVC(probability=True)\n",
    "\n",
    "# Best parameters: {'C': 100, 'gamma': 1, 'kernel': 'rbf'}\n",
    "param_grid = { 'C': [1, 10, 100],\n",
    "              'gamma': [1, 0.1, 0.01],\n",
    "              'kernel': ['rbf', 'linear']\n",
    "}\n",
    "\n",
    "# Using RandomizedSearchCV to find the best parameters.\n",
    "random_search = RandomizedSearchCV(svm_model, param_distributions=param_grid, n_iter=5, cv=5, verbose=2, random_state=42, n_jobs=-1)\n",
    "random_search.fit(X_train, y_train)\n",
    "\n",
    "# Searching for the best model\n",
    "print(f\"Best Parameters: {random_search.best_params_}\")\n",
    "best_model = random_search.best_estimator_"
   ]
  },
  {
   "cell_type": "markdown",
   "metadata": {},
   "source": [
    "# Predicting the Data"
   ]
  },
  {
   "cell_type": "code",
   "execution_count": 9,
   "metadata": {},
   "outputs": [],
   "source": [
    "y_pred = best_model.predict(X_test)"
   ]
  },
  {
   "cell_type": "markdown",
   "metadata": {},
   "source": [
    "# Conduct Accuracy and Report"
   ]
  },
  {
   "cell_type": "code",
   "execution_count": null,
   "metadata": {},
   "outputs": [],
   "source": [
    "accuracy = accuracy_score(y_test, y_pred)\n",
    "print(f\"Accuracy: {accuracy * 100:.2f}\")\n",
    "\n",
    "report = classification_report(y_test, y_pred)\n",
    "print(report)"
   ]
  },
  {
   "cell_type": "markdown",
   "metadata": {},
   "source": [
    "# Evaluating the Model"
   ]
  },
  {
   "cell_type": "code",
   "execution_count": null,
   "metadata": {},
   "outputs": [],
   "source": [
    "# Confusion matrix\n",
    "cm = confusion_matrix(y_test, y_pred)\n",
    "\n",
    "plt.figure()\n",
    "sns.heatmap(cm, annot=True, fmt=\"d\", cmap=\"Reds\", xticklabels=[\"Not ADHD\", \"ADHD\"], yticklabels=[\"Not ADHD\", \"ADHD\"])\n",
    "plt.xlabel('Predicted')\n",
    "plt.ylabel('Actual')\n",
    "plt.title(\"Confusion Matrix\")\n",
    "plt.show()\n",
    "\n",
    "# Correlation matrix\n",
    "corr = df.corr()\n",
    "\n",
    "plt.figure(figsize=(10, 8))\n",
    "sns.heatmap(corr, annot=True, cmap='coolwarm', xticklabels=corr.columns, yticklabels=corr.columns)\n",
    "plt.title(\"Correlation Matrix of SRS Scores\")\n",
    "plt.show()\n",
    "\n",
    "\n",
    "# Feature importance\n",
    "perm_importance = permutation_importance(best_model, X, y, n_repeats=30, random_state=42, n_jobs=-1)\n",
    "sorted_idx = perm_importance.importances_mean.argsort()\n",
    "indices = np.argsort(perm_importance)[::-1]\n",
    "\n",
    "plt.figure(figsize=(10, 6))\n",
    "plt.barh(range(X.shape[1]), perm_importance.importances_mean[sorted_idx], align='center')\n",
    "plt.yticks(range(X.shape[1]), X.columns[sorted_idx])\n",
    "plt.xlabel(\"Permutation Importance\")\n",
    "plt.title(\"Feature Importance of SVC Model\")\n",
    "plt.show()\n",
    "\n",
    "\n",
    "# ROC curve\n",
    "y_score = best_model.predict_proba(X_test)[:, 1] \n",
    "fpr, tpr, _ = roc_curve(y_test, y_score)\n",
    "roc_auc = auc(fpr, tpr) \n",
    "\n",
    "plt.figure()\n",
    "plt.plot(fpr, tpr, label=f'AUC = {roc_auc:0.2f}')\n",
    "plt.plot([0, 1], [0, 1], linestyle='--', label='Line of No Skill')  \n",
    "plt.xlabel('False Positive Rate')\n",
    "plt.ylabel('True Positive Rate')\n",
    "plt.title('ROC Curve')\n",
    "plt.legend(loc=\"lower right\")\n",
    "plt.show()\n",
    "\n",
    "\n",
    "# Calibration curve\n",
    "y_prob = best_model.predict_proba(X_test)[:, 1]\n",
    "\n",
    "prob_true, prob_pred = calibration_curve(y_test, y_prob, n_bins=10)\n",
    "plt.plot(prob_pred, prob_true, marker='o', label='SVC')\n",
    "plt.plot([0, 1], [0, 1], linestyle='--', label='Perfectly Calibrated')  \n",
    "plt.title(\"Calibration Curve\")\n",
    "plt.xlabel(\"Mean Predicted Probability\")\n",
    "plt.ylabel(\"Fraction of Positives\")\n",
    "plt.legend()\n",
    "plt.show()\n",
    "\n",
    "# Pair plot\n",
    "sns.pairplot(df, hue='HAS ADHD', markers='o')\n",
    "plt.suptitle('Pair Plot of SRS Features and ADHD Predictions', y=1.02)\n",
    "plt.show()\n"
   ]
  },
  {
   "cell_type": "markdown",
   "metadata": {},
   "source": [
    "# Visualising the Model Prediction"
   ]
  },
  {
   "cell_type": "code",
   "execution_count": null,
   "metadata": {},
   "outputs": [],
   "source": [
    "# Gradio function to predict ADHD based on SRS scores\n",
    "def classify(SRS_AWARENESS, SRS_COGNITION, SRS_COMMUNICATION, SRS_MOTIVATION, SRS_MANNERISMS):\n",
    "    srs_scores = [SRS_AWARENESS, SRS_COGNITION, SRS_COMMUNICATION, SRS_MOTIVATION, SRS_MANNERISMS]\n",
    "    total_srs_score = sum(srs_scores)\n",
    "    \n",
    "    input_data = pd.DataFrame(\n",
    "        [[total_srs_score] + srs_scores],\n",
    "        columns=['SRS_RAW_TOTAL', 'SRS_AWARENESS', 'SRS_COGNITION', 'SRS_COMMUNICATION', 'SRS_MOTIVATION', 'SRS_MANNERISMS'])\n",
    "\n",
    "    prediction = best_model.predict(input_data)[0]\n",
    "    probability = best_model.predict_proba(input_data)[0]\n",
    "    \n",
    "    result = \"No ADHD\" if prediction == 0 else \"ADHD\"\n",
    "    prob_result = f\"ADHD Probability: {probability[1]:.2f}%\"\n",
    "\n",
    "    return result, prob_result\n",
    "\n",
    "# Gradio interface to interact with the model.\n",
    "interface = gr.Interface(\n",
    "    fn=classify,\n",
    "    inputs = [\n",
    "        gr.Number(label=\"SRS Awareness Score\"),\n",
    "        gr.Number(label=\"SRS Cognition Score\"),\n",
    "        gr.Number(label=\"SRS Communication Score\"),\n",
    "        gr.Number(label=\"SRS Motivation Score\"),\n",
    "        gr.Number(label=\"SRS Mannerisms Score\")\n",
    "    ],\n",
    "    outputs = [\n",
    "        gr.Textbox(label=\"Classification Result\"),\n",
    "        gr.Textbox(label=\"Probability Score\") ],\n",
    "    title=\"ADHD Classification\",\n",
    "    description=\"Enter the SRS scores to get an ADHD classification and probability.\"\n",
    ")\n",
    "\n",
    "interface.launch(share=True)"
   ]
  }
 ],
 "metadata": {
  "kernelspec": {
   "display_name": "Python 3",
   "language": "python",
   "name": "python3"
  },
  "language_info": {
   "codemirror_mode": {
    "name": "ipython",
    "version": 3
   },
   "file_extension": ".py",
   "mimetype": "text/x-python",
   "name": "python",
   "nbconvert_exporter": "python",
   "pygments_lexer": "ipython3",
   "version": "3.11.9"
  }
 },
 "nbformat": 4,
 "nbformat_minor": 2
}
